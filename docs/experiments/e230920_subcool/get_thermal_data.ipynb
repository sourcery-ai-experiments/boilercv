{
 "cells": [
  {
   "cell_type": "markdown",
   "metadata": {
    "tags": []
   },
   "source": [
    "::::\n",
    ":::{thebe-button}\n",
    ":::\n",
    "::::\n",
    "\n",
    "# Get thermal data\n"
   ]
  },
  {
   "cell_type": "code",
   "execution_count": null,
   "metadata": {
    "tags": [
     "hide-input",
     "parameters",
     "thebe-init"
    ]
   },
   "outputs": [],
   "source": [
    "from boilercv_docs.nbs import init\n",
    "\n",
    "paths = init()\n",
    "\n",
    "from pandas import DataFrame, read_csv\n",
    "from seaborn import scatterplot\n",
    "\n",
    "from boilercv_docs.nbs import HIDE\n",
    "from boilercv_pipeline.experiments.e230920_subcool import ALL_THERMAL_DATA\n",
    "\n",
    "BOILING = 97.33  # (C) inferred from mean pressure over the time span\n",
    "TIME = \"time\"\n",
    "BASE_TEMP = \"T0cal (C)\"\n",
    "SURFACE_TEMP = \"T_s (C)\"\n",
    "WATER_TEMPS = [\"Tw1cal (C)\", \"Tw2cal (C)\", \"Tw3cal (C)\"]\n",
    "COLS = [BASE_TEMP, SURFACE_TEMP, *WATER_TEMPS, \"Q34 (W)\"]"
   ]
  },
  {
   "cell_type": "code",
   "execution_count": null,
   "metadata": {
    "tags": [
     "hide-input"
    ]
   },
   "outputs": [],
   "source": [
    "data = (\n",
    "    (\n",
    "        DataFrame(columns=COLS)\n",
    "        .assign(\n",
    "            **read_csv(\n",
    "                ALL_THERMAL_DATA,\n",
    "                usecols=[TIME, *COLS],  # type: ignore  # pyright 1.1.348, pandas 2.1.4\n",
    "                parse_dates=[TIME],\n",
    "                index_col=TIME,\n",
    "            )\n",
    "        )\n",
    "        .loc[\"2023-09-20\":\"2023-09-21\", :]\n",
    "    )\n",
    "    .resample(\"s\")\n",
    "    .mean()\n",
    "    .ffill()\n",
    "    .assign(\n",
    "        T_w=lambda df: df[WATER_TEMPS].mean(axis=\"columns\"),\n",
    "        superheat=lambda df: df[SURFACE_TEMP] - BOILING,\n",
    "        subcool=lambda df: BOILING - df.T_w,\n",
    "    )\n",
    ").loc[:, [\"subcool\", \"superheat\", BASE_TEMP, SURFACE_TEMP, \"Q34 (W)\"]]\n",
    "data"
   ]
  },
  {
   "cell_type": "code",
   "execution_count": null,
   "metadata": {
    "tags": [
     "hide-input"
    ]
   },
   "outputs": [],
   "source": [
    "ax = data[[\"subcool\", \"superheat\"]].rename(columns=lambda col: col.capitalize()).plot()\n",
    "ax.set_xlabel(\"Time\")\n",
    "ax.set_ylabel(\"ΔT (K)\")\n",
    "\n",
    "HIDE"
   ]
  },
  {
   "cell_type": "code",
   "execution_count": null,
   "metadata": {
    "tags": [
     "hide-input"
    ]
   },
   "outputs": [],
   "source": [
    "ax = data[[BASE_TEMP]].rename(columns={BASE_TEMP: \"Base temperature\"}).plot()\n",
    "ax.set_xlabel(\"Time\")\n",
    "ax.set_ylabel(\"T (C)\")\n",
    "\n",
    "ax = data[[SURFACE_TEMP]].rename(columns={SURFACE_TEMP: \"Surface temperature\"}).plot()\n",
    "ax.set_xlabel(\"Time\")\n",
    "ax.set_ylabel(\"T (C)\")"
   ]
  },
  {
   "cell_type": "code",
   "execution_count": null,
   "metadata": {
    "tags": [
     "hide-input"
    ]
   },
   "outputs": [],
   "source": [
    "scatterplot(\n",
    "    data=data.reset_index().assign(**{\n",
    "        \"Time (s)\": lambda df: (df.time - df.time[0]).dt.total_seconds(),\n",
    "        \"Flux (W/cm^2)\": lambda df: df[\"Q34 (W)\"] / 0.712557392,\n",
    "    }),\n",
    "    x=\"superheat\",\n",
    "    y=\"Flux (W/cm^2)\",\n",
    "    hue=\"Time (s)\",\n",
    ")\n",
    "\n",
    "HIDE"
   ]
  }
 ],
 "metadata": {
  "kernelspec": {
   "display_name": ".venv",
   "language": "python",
   "name": "python3"
  },
  "language_info": {
   "codemirror_mode": {
    "name": "ipython",
    "version": 3
   },
   "file_extension": ".py",
   "mimetype": "text/x-python",
   "name": "python",
   "nbconvert_exporter": "python",
   "pygments_lexer": "ipython3",
   "version": "3.11.8"
  }
 },
 "nbformat": 4,
 "nbformat_minor": 2
}
