{
 "cells": [
  {
   "attachments": {},
   "cell_type": "markdown",
   "metadata": {
    "tags": []
   },
   "source": [
    "::::\n",
    ":::{thebe-button}\n",
    ":::\n",
    "::::\n",
    "\n",
    "# Find tracks\n",
    "\n",
    "Compare experimental bubble histories to bubble history correlations. Bubble detection and linking performed by Trackpy, an implementation of the Crocker-Grier algorithm {cite}`allanTrackpy2018,crockerMethodsDigitalVideo1996`.\n"
   ]
  },
  {
   "cell_type": "code",
   "execution_count": null,
   "metadata": {
    "tags": [
     "hide-input",
     "parameters",
     "thebe-init"
    ]
   },
   "outputs": [],
   "source": [
    "from boilercv_docs.nbs import init\n",
    "\n",
    "paths = init()\n",
    "\n",
    "from numpy import diff, linalg\n",
    "from pandas import DataFrame, read_hdf\n",
    "\n",
    "from boilercv_docs.nbs import HIDE, display_dataframe_with_math, nowarn, style_df\n",
    "from boilercv_pipeline.experiments.e230920_subcool import (\n",
    "    GBC,\n",
    "    M_TO_MM,\n",
    "    OBJECTS,\n",
    "    THERMAL_DATA,\n",
    "    Col,\n",
    "    transform_cols,\n",
    ")\n",
    "from boilercv_pipeline.sets import get_dataset\n",
    "\n",
    "with nowarn(capture=True):\n",
    "    from trackpy import link, quiet\n",
    "\n",
    "quiet()\n",
    "\n",
    "TIME = \"2023-09-20T17:14:18\"\n",
    "\"\"\"Timestamp of the trial to be analyzed.\"\"\"\n",
    "\n",
    "# Track tuning\n",
    "SEARCH_RANGE = 30\n",
    "\"\"\"Pixel range to search for the next bubble.\"\"\"\n",
    "MEMORY = 5\n",
    "\"\"\"Frames to remember a bubble.\"\"\"\n",
    "\n",
    "# Physical parameters\n",
    "PX_PER_M = 20997.3753\n",
    "\n",
    "HIDE"
   ]
  },
  {
   "cell_type": "code",
   "execution_count": null,
   "metadata": {
    "tags": [
     "hide-input"
    ]
   },
   "outputs": [],
   "source": [
    "path_time = TIME.replace(\":\", \"-\")\n",
    "video = get_dataset(TIME.replace(\":\", \"-\"))[\"video\"]\n",
    "frametime = diff(video.time.values).mean()\n",
    "objects: DataFrame = read_hdf((OBJECTS / f\"objects_{path_time}\").with_suffix(\".h5\"))  # type: ignore\n",
    "subcooling = read_hdf(THERMAL_DATA).subcool[TIME]\n",
    "\n",
    "HIDE"
   ]
  },
  {
   "cell_type": "markdown",
   "metadata": {},
   "source": [
    "## Find bubbles in each frame and link them\n",
    "\n",
    "Detect individual bubbles in each frame, and then link detections across frames by application of the Crocker-Grier tracking algorithm, which takes into account centroid proximity and expected positions {cite}`crockerMethodsDigitalVideo1996`.\n",
    "\n",
    "Initial and lifetime characteristics of long-lived bubbles are shown in **Table&NonBreakingSpace;1**. All bubbles departing the surface have an initial depth, $y$, close to the actual boiling surface, and a bimodal distribution in initial $x$, close to active nucleation sites. This information is used to determine surface and departure $y$ thresholds for alignment of bubble departures.\n"
   ]
  },
  {
   "cell_type": "code",
   "execution_count": null,
   "metadata": {
    "tags": [
     "hide-input"
    ]
   },
   "outputs": [],
   "source": [
    "tracks = (\n",
    "    link(f=objects, search_range=SEARCH_RANGE, memory=MEMORY)\n",
    "    .rename(columns={\"x\": \"x_px\", \"y\": \"y_px\"})\n",
    "    .assign(\n",
    "        frame_lifetime=(\n",
    "            lambda df: df.groupby(\"particle\", **GBC)[\"frame\"].transform(\"count\")\n",
    "        )\n",
    "    )\n",
    "    .sort_values([\"frame_lifetime\", \"particle\", \"frame\"], ascending=[False, True, True])\n",
    "    .assign(\n",
    "        bubble=(lambda df: df.groupby(\"particle\", **GBC).ngroup()),\n",
    "        dy_px=lambda df: df.groupby(\"bubble\", **GBC)[[\"y_px\"]].diff().fillna(0),\n",
    "        dx_px=lambda df: df.groupby(\"bubble\", **GBC)[[\"x_px\"]].diff().fillna(0),\n",
    "        y=lambda df: df[\"y_px\"] / PX_PER_M,\n",
    "        x=lambda df: df[\"x_px\"] / PX_PER_M,\n",
    "        dy=lambda df: df[\"dy_px\"] / PX_PER_M / frametime,\n",
    "        dx=lambda df: df[\"dx_px\"] / PX_PER_M / frametime,\n",
    "        diameter=lambda df: df[\"diameter_px\"] / PX_PER_M,\n",
    "        radius_of_gyration=lambda df: df[\"radius_of_gyration_px\"] / PX_PER_M,\n",
    "        distance=lambda df: linalg.norm(df[[\"dx\", \"dy\"]].abs(), axis=1),\n",
    "        time=lambda df: video.sel(frame=df[\"frame\"].values)[\"time\"],\n",
    "        lifetime=lambda df: df[\"frame_lifetime\"] * frametime,\n",
    "    )\n",
    "    .drop(columns=[\"particle\"])\n",
    ")\n",
    "\n",
    "with style_df(\n",
    "    tracks.groupby(\"bubble\", **GBC)\n",
    "    .head(1)\n",
    "    .set_index(\"bubble\")\n",
    "    .head(16)\n",
    "    .pipe(\n",
    "        transform_cols,\n",
    "        cols=[\n",
    "            Col(\"lifetime\", \"Lifetime\", \"s\"),\n",
    "            Col(\"time\", r\"$t_0$\", \"s\"),\n",
    "            Col(\"diameter\", r\"$d_{b0}$\", **M_TO_MM),\n",
    "            Col(\"y\", r\"$y_{b0}$\", **M_TO_MM),\n",
    "            Col(\"x\", r\"$x_{b0}$\", **M_TO_MM),\n",
    "        ],\n",
    "    )\n",
    ") as style:\n",
    "    display_dataframe_with_math(style.background_gradient())"
   ]
  },
  {
   "cell_type": "markdown",
   "metadata": {},
   "source": [
    "**Table&NonBreakingSpace;1**: Selected properties of long-lived bubbles\n",
    "Bubbles are identified by a unique particle number. Their lifetime, the time of their first appearance, their initial diameter and elevation, and lifetime histograms of selected characteristics are shown.\n"
   ]
  }
 ],
 "metadata": {
  "kernelspec": {
   "display_name": "Python 3 (ipykernel)",
   "language": "python",
   "name": "python3"
  },
  "language_info": {
   "codemirror_mode": {
    "name": "ipython",
    "version": 3
   },
   "file_extension": ".py",
   "mimetype": "text/x-python",
   "name": "python",
   "nbconvert_exporter": "python",
   "pygments_lexer": "ipython3",
   "version": "3.11.9"
  },
  "papermill": {
   "parameters": {
    "product": "C:/Users/Blake/Code/mine/boilercv/data/docs/study_the_fit_of_bubble_collapse_correlations/prove_the_concept/23-07-13T14_full_video.ipynb"
   }
  }
 },
 "nbformat": 4,
 "nbformat_minor": 2
}
