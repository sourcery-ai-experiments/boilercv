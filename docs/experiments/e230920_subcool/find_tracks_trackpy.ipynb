{
 "cells": [
  {
   "attachments": {},
   "cell_type": "markdown",
   "metadata": {
    "tags": []
   },
   "source": [
    "# Find tracks with trackpy\n",
    "\n",
    "Compare experimental bubble histories to bubble history correlations. Bubble detection and linking performed by Trackpy, an implementation of the Crocker-Grier algorithm {cite}`allanTrackpy2018,crockerMethodsDigitalVideo1996`.\n"
   ]
  },
  {
   "cell_type": "code",
   "execution_count": null,
   "metadata": {
    "tags": [
     "hide-input",
     "parameters"
    ]
   },
   "outputs": [],
   "source": [
    "from boilercv_docs.nbs import init\n",
    "\n",
    "paths = init()\n",
    "\n",
    "from matplotlib.figure import Figure\n",
    "from matplotlib.pyplot import subplot_mosaic, subplots\n",
    "from numpy import diff, linalg, logspace\n",
    "from pandas import CategoricalDtype, DataFrame, read_hdf\n",
    "from seaborn import lineplot, move_legend, scatterplot\n",
    "\n",
    "from boilercv.data import apply_to_img_da\n",
    "from boilercv.dimensionless_params import (\n",
    "    fourier,\n",
    "    jakob,\n",
    "    kinematic_viscosity,\n",
    "    prandtl,\n",
    "    reynolds,\n",
    "    thermal_diffusivity,\n",
    ")\n",
    "from boilercv.images import scale_bool\n",
    "from boilercv.images.cv import Op, Transform, transform\n",
    "from boilercv_docs.nbs import HIDE, nowarn, style_df\n",
    "from boilercv_pipeline.correlations.dimensionless_bubble_diameter import (\n",
    "    florschuetz_chao_1965,\n",
    "    yuan_et_al_2009,\n",
    ")\n",
    "from boilercv_pipeline.experiments.e230920_subcool import (\n",
    "    EXP,\n",
    "    GBC,\n",
    "    M_TO_MM,\n",
    "    THERMAL_DATA,\n",
    "    Col,\n",
    "    get_cat_colorbar,\n",
    "    get_first_from_palette,\n",
    "    get_hists,\n",
    "    plot_composite_da,\n",
    "    transform_cols,\n",
    ")\n",
    "from boilercv_pipeline.experiments.e240215_plotting import cool, warm\n",
    "from boilercv_pipeline.models.params import PARAMS\n",
    "from boilercv_pipeline.sets import get_dataset\n",
    "\n",
    "with nowarn(capture=True):\n",
    "    from trackpy import batch, link, locate, quiet\n",
    "\n",
    "quiet()\n",
    "\n",
    "\n",
    "figures: list[Figure] = []\n",
    "RELINK = False\n",
    "TIME = \"2023-09-20T17:14:18\""
   ]
  },
  {
   "cell_type": "code",
   "execution_count": null,
   "metadata": {
    "tags": [
     "hide-input"
    ]
   },
   "outputs": [],
   "source": [
    "PATH_TIME = TIME.replace(\":\", \"-\")\n",
    "PATH = PARAMS.paths.experiments / f\"{EXP}/trackpy_objects/{PATH_TIME}.h5\"\n",
    "\n",
    "video = apply_to_img_da(\n",
    "    lambda img: transform(img, Transform(Op.open, 12)),\n",
    "    scale_bool(get_dataset(PATH_TIME, stage=\"filled\")[\"video\"]),\n",
    "    vectorize=True,\n",
    ")\n",
    "\n",
    "# Conversion factors\n",
    "PX_PER_M = 20997.3753  # (px/m)\n",
    "PX_PER_MM = PX_PER_M / 1000  # (px/mm)\n",
    "\n",
    "# Informed by the actual water temperature data\n",
    "DATA = read_hdf(THERMAL_DATA)\n",
    "# TODO: Timezone\n",
    "SUBCOOLING = DATA.subcool[TIME]\n",
    "\n",
    "# Thresholds, back-propagated from the following analysis\n",
    "GUESS_DIAMETER = 51  # (px) Guess diameter\n",
    "YPX_SURFACE_THRESHOLD = 400\n",
    "YPX_DEPARTURE_THRESHOLD = 420\n",
    "\n",
    "# Values for nondimensionalization, back-propagated from the following analysis\n",
    "# (s) for 1200 fps, also can be done by: FRAMETIME = diff(video.time.values)[1:].mean()  # s/frame\n",
    "INITIAL_DY_PX = 4  # (px/frame)\n",
    "INITIAL_RADIUS_OF_GYRATION_PX = 16.5  # (px)\n",
    "INITIAL_RADIUS_OF_GYRATION = INITIAL_RADIUS_OF_GYRATION_PX / PX_PER_M  # (m)\n",
    "INITIAL_BUBBLE_DIAMETER = 4 * INITIAL_RADIUS_OF_GYRATION  # (m)\n",
    "\n",
    "FRAMETIME = diff(video.time.values).mean()\n",
    "\n",
    "# Thresholds, back-propagated from the following analysis\n",
    "MINIMUM_LIFETIME = 0.010  # (s)\n",
    "MINIMUM_FRAME_LIFETIME = int(MINIMUM_LIFETIME // FRAMETIME)\n",
    "\n",
    "# Values for nondimensionalization, back-propagated from the following analysis\n",
    "# (m/s) need frametime\n",
    "INITIAL_BUBBLE_VELOCITY = INITIAL_DY_PX / PX_PER_M / FRAMETIME"
   ]
  },
  {
   "cell_type": "markdown",
   "metadata": {},
   "source": [
    "## Overlay first-frame detections on video composite\n",
    "\n",
    "**Figure&NonBreakingSpace;1** shows bubble detections in the first frame of video, as well as the aggregate of all bubble tracks in the video. This aggregation does not represent individual bubble tracking, but instead acts as a heuristic for comparison of bubble traces later in the analysis.\n"
   ]
  },
  {
   "cell_type": "code",
   "execution_count": null,
   "metadata": {
    "tags": [
     "hide-input"
    ]
   },
   "outputs": [],
   "source": [
    "figure, ax = subplots()\n",
    "figures.append(figure)\n",
    "first_frame = video.sel(frame=0).values\n",
    "first_frame_objects = locate(first_frame, diameter=GUESS_DIAMETER)\n",
    "plot_composite_da(video, ax)\n",
    "scatterplot(\n",
    "    ax=ax,\n",
    "    data=first_frame_objects.rename(columns={\"x\": \"x (px)\", \"y\": \"y (px)\"}),\n",
    "    x=\"x (px)\",\n",
    "    y=\"y (px)\",\n",
    "    s=40,\n",
    "    legend=False,  # type: ignore  # pyright 1.1.333\n",
    ")\n",
    "HIDE"
   ]
  },
  {
   "cell_type": "markdown",
   "metadata": {},
   "source": [
    "**Figure&NonBreakingSpace;1**: Bubbles in the first frame, their centroids, and bubble tracks  \n",
    "First-frame bubbles in dark grey, bubble tracks in light grey, and centroids in blue.\n"
   ]
  },
  {
   "cell_type": "markdown",
   "metadata": {},
   "source": [
    "## Find bubbles in each frame and link them\n",
    "\n",
    "Detect individual bubbles in each frame, and then link detections across frames by application of the Crocker-Grier tracking algorithm, which takes into account centroid proximity and expected positions {cite}`crockerMethodsDigitalVideo1996`.\n",
    "\n",
    "Initial and lifetime characteristics of long-lived bubbles are shown in **Table&NonBreakingSpace;1**. All bubbles departing the surface have an initial depth, $y$, close to the actual boiling surface, and a bimodal distribution in initial $x$, close to active nucleation sites. This information is used to determine surface and departure $y$ thresholds for alignment of bubble departures.\n"
   ]
  },
  {
   "cell_type": "code",
   "execution_count": null,
   "metadata": {
    "tags": [
     "hide-input"
    ]
   },
   "outputs": [],
   "source": [
    "if RELINK:\n",
    "    # Runtime: 20 minutes\n",
    "    objects: DataFrame = link(\n",
    "        f=batch(frames=video.values, diameter=GUESS_DIAMETER, characterize=False),\n",
    "        search_range=30,\n",
    "        memory=5,\n",
    "    )\n",
    "    objects.to_hdf(PATH, key=\"objects\")\n",
    "else:\n",
    "    objects: DataFrame = read_hdf(PATH)  # type: ignore  # pyright 1.1.333\n",
    "\n",
    "objects = (\n",
    "    objects.rename(columns={\"x\": \"xpx\", \"y\": \"ypx\"})\n",
    "    .assign(\n",
    "        frame_lifetime=(\n",
    "            lambda df: df.groupby(\"particle\", **GBC)[\"frame\"].transform(\"count\")\n",
    "        )\n",
    "    )\n",
    "    .sort_values([\"frame_lifetime\", \"particle\", \"frame\"], ascending=[False, True, True])\n",
    "    .assign(\n",
    "        bubble=(\n",
    "            lambda df: df.groupby(\"particle\", **GBC)\n",
    "            .ngroup()\n",
    "            .astype(CategoricalDtype(ordered=True))\n",
    "        ),\n",
    "        dypx=lambda df: df.groupby(\"bubble\", **GBC)[[\"ypx\"]].diff().fillna(0),\n",
    "        dxpx=lambda df: df.groupby(\"bubble\", **GBC)[[\"xpx\"]].diff().fillna(0),\n",
    "        diameter=lambda df: 4 * df[\"size\"] / PX_PER_M,  # radius of gyration to diam\n",
    "        y=lambda df: df[\"ypx\"] / PX_PER_M,\n",
    "        x=lambda df: df[\"xpx\"] / PX_PER_M,\n",
    "        dy=lambda df: df[\"dypx\"] / PX_PER_M / FRAMETIME,\n",
    "        dx=lambda df: df[\"dxpx\"] / PX_PER_M / FRAMETIME,\n",
    "        distance=lambda df: linalg.norm(df[[\"dx\", \"dy\"]].abs(), axis=1),\n",
    "        time=lambda df: video.sel(frame=df[\"frame\"].values)[\"time\"],\n",
    "        lifetime=lambda df: df[\"frame_lifetime\"] * FRAMETIME,\n",
    "    )\n",
    "    .drop(columns=[\"particle\"])\n",
    ")\n",
    "\n",
    "cols = [\n",
    "    Col(\"lifetime\", \"Lifetime\", \"s\"),\n",
    "    Col(\"time\", r\"$t_0$\", \"s\"),\n",
    "    Col(\"diameter\", r\"$d_{b0}$\", **M_TO_MM),\n",
    "    Col(\"y\", r\"$y_{b0}$\", **M_TO_MM),\n",
    "    Col(\"x\", r\"$x_{b0}$\", **M_TO_MM),\n",
    "    *(hist_cols := [Col(\"dy\", r\"$v_y$\"), Col(\"ecc\", r\"$\\epsilon$\")]),\n",
    "]\n",
    "with style_df(\n",
    "    objects.groupby(\"bubble\", **GBC)\n",
    "    .head(1)\n",
    "    .set_index(\"bubble\")\n",
    "    .assign(\n",
    "        **objects.pipe(\n",
    "            get_hists, groupby=\"bubble\", cols=[col.old for col in hist_cols]\n",
    "        ).set_index(\"bubble\")\n",
    "    )\n",
    "    .query(f\"frame_lifetime > {MINIMUM_FRAME_LIFETIME}\")\n",
    "    .pipe(transform_cols, cols=cols)\n",
    ") as styler:\n",
    "    styler.background_gradient()"
   ]
  },
  {
   "cell_type": "markdown",
   "metadata": {},
   "source": [
    "**Table&NonBreakingSpace;1**: Selected properties of long-lived bubbles\n",
    "Bubbles are identified by a unique particle number. Their lifetime, the time of their first appearance, their initial diameter and elevation, and lifetime histograms of selected characteristics are shown.\n"
   ]
  },
  {
   "cell_type": "markdown",
   "metadata": {},
   "source": [
    "## History of long-lived bubbles\n",
    "\n",
    "The paths taken by long-lived bubbles are shown in **Figure&NonBreakingSpace;2**. Two active nucleation sites are responsible for all bubbles produced, and bubbles departing from each nucleation site take one of a few predominant paths during the short period of observation.\n"
   ]
  },
  {
   "cell_type": "code",
   "execution_count": null,
   "metadata": {
    "tags": [
     "hide-input"
    ]
   },
   "outputs": [],
   "source": [
    "figure, ax = subplots()\n",
    "figures.append(figure)\n",
    "plot_composite_da(video, ax)\n",
    "long_lived_objects = objects.query(f\"frame_lifetime > {MINIMUM_FRAME_LIFETIME}\")\n",
    "palette, data = get_cat_colorbar(\n",
    "    ax,\n",
    "    palette=cool,\n",
    "    data=long_lived_objects.pipe(\n",
    "        transform_cols,\n",
    "        [\n",
    "            hue := Col(\"bubble\", \"Individual bubble\"),\n",
    "            x := Col(\"xpx\", \"x\", \"px\"),\n",
    "            y := Col(\"ypx\", \"y\", \"px\"),\n",
    "        ],\n",
    "    ),\n",
    "    col=hue.new,\n",
    ")\n",
    "scatterplot(\n",
    "    ax=ax,\n",
    "    edgecolor=\"none\",\n",
    "    s=10,\n",
    "    x=x.new,\n",
    "    y=y.new,\n",
    "    hue=hue.new,\n",
    "    legend=False,  # type: ignore  # pyright 1.1.333\n",
    "    palette=palette,\n",
    "    data=data,\n",
    ")\n",
    "HIDE"
   ]
  },
  {
   "cell_type": "markdown",
   "metadata": {},
   "source": [
    "**Figure&NonBreakingSpace;2**: Long-lived bubble tracks  \n",
    "Bubble tracks indicated by the positions of detected centroids over time.\n",
    "\n",
    "## Aligning bubble departures\n",
    "\n",
    "Exclude bubbles that did not originate from the boiling surface, or that had already departed the surface at the time of recording. Consider a bubble to have departed the surface when its centroid crosses a departure threshold which is about one average bubble diameter above the boiling surface. Define the origin for time of departure for each bubble in this fashion. The resulting time history in **Figure&NonBreakingSpace;3** shows bubble depth, velocity, and diameter for the remainder of its visible lifetime.\n",
    "\n",
    "Most bubbles rise and collapse at similar rates. Two bubbles rise slower than the rest, but seem to collapse at about the same rate as others.\n"
   ]
  },
  {
   "cell_type": "code",
   "execution_count": null,
   "metadata": {
    "tags": [
     "hide-input"
    ]
   },
   "outputs": [],
   "source": [
    "departing_long_lived_objects = (\n",
    "    # Find rows corresponding to stagnant or invalid bubbles\n",
    "    long_lived_objects.sort_values([\"bubble\", \"frame\"])\n",
    "    .groupby(\"bubble\", **GBC)\n",
    "    .apply(\n",
    "        # Don't assign any other columns until invalid rows have been filtered out\n",
    "        lambda df: df.assign(\n",
    "            yinitpx=lambda df: df[\"ypx\"].iat[0],\n",
    "            # Initial y position is close to the surface\n",
    "            began=lambda df: df[\"yinitpx\"] > YPX_SURFACE_THRESHOLD,\n",
    "            # When the bubble gets far enough away from the surface\n",
    "            departed=lambda df: df[\"ypx\"] < YPX_DEPARTURE_THRESHOLD,\n",
    "        )\n",
    "    )\n",
    "    # Filter out invalid rows and drop the columns used to determine validity\n",
    "    .pipe(lambda df: df[df[\"began\"] & df[\"departed\"]])\n",
    "    .drop(columns=[\"began\", \"departed\"])\n",
    "    # Groupby again after filtering out invalid rows\n",
    "    .groupby(\"bubble\", **GBC)\n",
    "    # Now columns that depend on the initial row (*.iat[0]) can be assigned\n",
    "    .apply(\n",
    "        lambda df: df.assign(\n",
    "            frame=lambda df: df[\"frame\"] - df[\"frame\"].iat[0],\n",
    "            time=lambda df: df[\"time\"] - df[\"time\"].iat[0],\n",
    "            frame_lifetime=lambda df: df[\"frame\"].iat[-1] - df[\"frame\"].iat[0],\n",
    "            lifetime=lambda df: df[\"frame_lifetime\"] * FRAMETIME,\n",
    "            yinit=lambda df: df[\"y\"].iat[0],\n",
    "            xinit=lambda df: df[\"x\"].iat[0],\n",
    "            diameterinit=lambda df: df[\"diameter\"].iat[0],\n",
    "            dyinit=lambda df: df[\"dy\"].iat[0],\n",
    "            dyinitpx=lambda df: df[\"dy\"].iat[0],\n",
    "            max_diameter=lambda df: df[\"diameter\"].max(),\n",
    "        )\n",
    "    )\n",
    ")\n",
    "\n",
    "cols = [\n",
    "    hue := Col(\"bubble\", \"Individual bubble\"),\n",
    "    x := Col(\"time\", \"Time after departure\", \"s\"),\n",
    "    y := Col(\"y\", \"Depth\", **M_TO_MM),\n",
    "    v := Col(\"dy\", \"Velocity\", \"m/s\", \"mm/s\"),\n",
    "    d := Col(\"diameter\", \"Diameter\", **M_TO_MM),\n",
    "]\n",
    "figure, axs = subplot_mosaic([[y.new], [v.new], [d.new]])\n",
    "figures.append(figure)\n",
    "figure.set_size_inches(6, 10)\n",
    "for plot, ax in axs.items():\n",
    "    palette, data = get_cat_colorbar(\n",
    "        ax, hue.new, cool, departing_long_lived_objects.pipe(transform_cols, cols)\n",
    "    )\n",
    "    scatterplot(\n",
    "        ax=ax,\n",
    "        edgecolor=\"none\",\n",
    "        s=10,\n",
    "        alpha=0.4,\n",
    "        x=x.new,\n",
    "        y=plot,  # pyright: ignore[reportArgumentType] 1.1.356\n",
    "        hue=hue.new,\n",
    "        legend=False,  # type: ignore  # pyright 1.1.333\n",
    "        palette=palette,\n",
    "        data=data,\n",
    "    )"
   ]
  },
  {
   "cell_type": "markdown",
   "metadata": {},
   "source": [
    "**Figure 3**: Time history of long-lived bubbles\n",
    "Bubble depth, velocity, and diameter plotted over time.\n"
   ]
  },
  {
   "cell_type": "markdown",
   "metadata": {},
   "source": [
    "Histograms of individual bubble statistics are shown in **Figure&NonBreakingSpace;4**. Because no bubbles completely collapse, bubble lifetimes correspond to the duration of time between their departure from the boiling surface and rising past the upper limit of the camera viewpoint. The maximum bubble diameter is about 3&NonBreakingSpace;mm.\n",
    "\n",
    "The bimodal distribution of initial $x$ positions is also evident, corresponding to two active nucleation sites. Initial bubble velocity at departure tends to be about 250&NonBreakingSpace;mm/s.\n"
   ]
  },
  {
   "cell_type": "code",
   "execution_count": null,
   "metadata": {
    "tags": [
     "hide-input"
    ]
   },
   "outputs": [],
   "source": [
    "figure, ax = subplots()\n",
    "figures.append(figure)\n",
    "(\n",
    "    departing_long_lived_objects.pipe(\n",
    "        transform_cols,\n",
    "        [\n",
    "            Col(\"bubble\"),\n",
    "            Col(\"lifetime\", \"Lifetime\", \"s\"),\n",
    "            Col(\"max_diameter\", r\"$d_{max}$\", **M_TO_MM),\n",
    "            Col(\"diameterinit\", r\"$d_{b0}$\", **M_TO_MM),\n",
    "            Col(\"yinit\", r\"$y_{b0}$\", **M_TO_MM),\n",
    "            Col(\"xinit\", r\"$x_{b0}$\", **M_TO_MM),\n",
    "            Col(\"dyinit\", r\"$v_{y0}$\", old_unit=\"m/s\", new_unit=\"mm/s\", scale=1000),\n",
    "        ],\n",
    "    )\n",
    "    .groupby(\"bubble\", **GBC)\n",
    "    .mean()\n",
    "    .set_index(\"bubble\")\n",
    "    .hist(ax=ax)\n",
    ")\n",
    "\n",
    "HIDE"
   ]
  },
  {
   "cell_type": "markdown",
   "metadata": {},
   "source": [
    "**Figure&NonBreakingSpace;4**: Histograms of individual bubble statistics  \n",
    "Shows bubble lifetime, maximum diameter, and bubble properties at departure.\n"
   ]
  },
  {
   "cell_type": "markdown",
   "metadata": {},
   "source": [
    "# Correlations\n",
    "\n",
    "One correlation for bubble history of direct contact condensation of vapor bubbles in a subcooled liquid such considers a stagnant bubble in liquid dominated by heat transfer, which is represented by {eq}`eq_dimensionless_bubble_diameter_florschuetz_chao_1965`. A later correlation, one which does incoprorate a fit to experimental data, is  and {eq}`eq_dimensionless_bubble_diameter_yuan_et_al_2009`. Experimental bubble data is nondimensionalized by initial bubble diameter, and correlations are plotted against experimental data in **Figure&NonBreakingSpace;5**. Correlations are plotted for the average initial bubble diameter and velocity of the population of bubbles studied.\n",
    "\n",
    "Bubble histories seem to correspond roughly with the analytical model by Florschuetz and Chao initially, with later times corresponding to the Yuan et al. model. The present bubble data shows about 0.5&NonBreakingSpace;K subcooling. Since correlations are sensitive to subcool temperature, this motivates the collection of bubble data over a wider range of subcooling."
   ]
  },
  {
   "cell_type": "code",
   "execution_count": null,
   "metadata": {
    "tags": [
     "hide-input"
    ]
   },
   "outputs": [],
   "source": [
    "object_averages = (\n",
    "    departing_long_lived_objects.set_index(\"bubble\")\n",
    "    .groupby(\"bubble\", **GBC)\n",
    "    .mean()\n",
    "    .mean()\n",
    ")\n",
    "\n",
    "time = logspace(-6, 0) / 2  # s\n",
    "latent_heat_of_vaporization = 2.23e6  # J/kg\n",
    "liquid_density = 960  # kg/m^3\n",
    "liquid_dynamic_viscosity = 2.88e-4  # Pa-s\n",
    "liquid_isobaric_specific_heat = 4213  # J/kg-K\n",
    "liquid_thermal_conductivity = 0.676  # W/m-K\n",
    "vapor_density = 0.804  # kg/m^3\n",
    "\n",
    "liquid_kinematic_viscosity = kinematic_viscosity(\n",
    "    density=liquid_density, dynamic_viscosity=liquid_dynamic_viscosity\n",
    ")\n",
    "liquid_thermal_diffusivity = thermal_diffusivity(\n",
    "    thermal_conductivity=liquid_thermal_conductivity,\n",
    "    density=liquid_density,\n",
    "    isobaric_specific_heat=liquid_isobaric_specific_heat,\n",
    ")\n",
    "\n",
    "bubble_initial_reynolds = reynolds(\n",
    "    velocity=abs(object_averages[\"dyinit\"]),\n",
    "    characteristic_length=object_averages[\"diameterinit\"],\n",
    "    kinematic_viscosity=liquid_kinematic_viscosity,\n",
    ")\n",
    "liquid_prandtl = prandtl(\n",
    "    dynamic_viscosity=liquid_dynamic_viscosity,\n",
    "    isobaric_specific_heat=liquid_isobaric_specific_heat,\n",
    "    thermal_conductivity=liquid_thermal_conductivity,\n",
    ")\n",
    "bubble_jakob = jakob(\n",
    "    liquid_density=liquid_density,\n",
    "    vapor_density=vapor_density,\n",
    "    liquid_isobaric_specific_heat=liquid_isobaric_specific_heat,\n",
    "    subcooling=SUBCOOLING,\n",
    "    latent_heat_of_vaporization=latent_heat_of_vaporization,\n",
    ")\n",
    "bubble_fourier = fourier(\n",
    "    liquid_thermal_diffusivity=liquid_thermal_diffusivity,\n",
    "    initial_bubble_diameter=object_averages[\"diameterinit\"],\n",
    "    time=time,\n",
    ")\n",
    "\n",
    "nondimensionalized_departing_long_lived_objects = departing_long_lived_objects.assign(**{\n",
    "    \"Bubble Fourier number\": lambda df: fourier(\n",
    "        initial_bubble_diameter=df[\"diameterinit\"],\n",
    "        liquid_thermal_diffusivity=liquid_thermal_diffusivity,\n",
    "        time=df[\"time\"],\n",
    "    ),\n",
    "    \"Dimensionless bubble diameter\": (lambda df: df[\"diameter\"] / df[\"diameterinit\"]),\n",
    "})"
   ]
  },
  {
   "cell_type": "code",
   "execution_count": null,
   "metadata": {
    "tags": [
     "hide-input"
    ]
   },
   "outputs": [],
   "source": [
    "figure, ax = subplots()\n",
    "figures.append(figure)\n",
    "ax.set_xlim(0, 0.003)\n",
    "ax.set_ylim(0.2, 1.05)\n",
    "lineplot(\n",
    "    ax=ax,\n",
    "    data=(\n",
    "        data := DataFrame(index=bubble_fourier).assign(  # type: ignore  # pyright 1.1.333\n",
    "            **{\n",
    "                \"Florshuetz and Chao (1965)\": florschuetz_chao_1965(\n",
    "                    bubble_jakob=bubble_jakob, bubble_fourier=bubble_fourier\n",
    "                ),\n",
    "                \"Yuan et al. (2009)\": yuan_et_al_2009(\n",
    "                    bubble_initial_reynolds=bubble_initial_reynolds,\n",
    "                    liquid_prandtl=liquid_prandtl,\n",
    "                    bubble_jakob=bubble_jakob,\n",
    "                    bubble_fourier=bubble_fourier,\n",
    "                ),\n",
    "                # \"Inaba et al. (2013)\": dimensionless_bubble_diameter_inaba(\n",
    "                #     bubble_initial_reynolds=bubble_initial_reynolds,\n",
    "                #     liquid_prandtl=liquid_prandtl,\n",
    "                #     bubble_jakob=bubble_jakob,\n",
    "                #     bubble_fourier=bubble_fourier,\n",
    "                # ),\n",
    "            }\n",
    "        )\n",
    "    ),\n",
    "    palette=get_first_from_palette(warm, len(data.columns)).colors,  # type: ignore  # pyright 1.1.333\n",
    ")\n",
    "palette, data = get_cat_colorbar(\n",
    "    ax,\n",
    "    palette=cool,\n",
    "    data=nondimensionalized_departing_long_lived_objects.pipe(\n",
    "        transform_cols,\n",
    "        [\n",
    "            hue := Col(\"bubble\", \"Individual bubble\"),\n",
    "            x := Col(\"Bubble Fourier number\"),\n",
    "            y := Col(\"Dimensionless bubble diameter\"),\n",
    "        ],\n",
    "    ),\n",
    "    col=hue.new,\n",
    ")\n",
    "scatterplot(\n",
    "    ax=ax,\n",
    "    s=10,\n",
    "    alpha=0.4,\n",
    "    x=x.new,\n",
    "    y=y.new,\n",
    "    hue=hue.new,\n",
    "    palette=palette,\n",
    "    legend=False,  # type: ignore  # pyright 1.1.333\n",
    "    data=data,\n",
    ")\n",
    "HIDE\n",
    "\n",
    "move_legend(ax, \"lower center\", bbox_to_anchor=(0.5, 1), ncol=3)"
   ]
  },
  {
   "cell_type": "markdown",
   "metadata": {},
   "source": [
    "**Figure&NonBreakingSpace;5**: Comparison of bubble histories to correlations\n",
    "\n",
    "Two correlations are shown. The early bubble history follows that of the analytical correlation by Florshuetz and Chao (1965), while the late bubble history follows that of Yuan et al (2009). {cite}`florschuetzMechanicsVaporBubble1965,tangReviewDirectContact2022`\n"
   ]
  }
 ],
 "metadata": {
  "kernelspec": {
   "display_name": "Python 3 (ipykernel)",
   "language": "python",
   "name": "python3"
  },
  "language_info": {
   "codemirror_mode": {
    "name": "ipython",
    "version": 3
   },
   "file_extension": ".py",
   "mimetype": "text/x-python",
   "name": "python",
   "nbconvert_exporter": "python",
   "pygments_lexer": "ipython3",
   "version": "3.11.9"
  },
  "papermill": {
   "parameters": {
    "product": "C:/Users/Blake/Code/mine/boilercv/data/docs/study_the_fit_of_bubble_collapse_correlations/prove_the_concept/23-07-13T14_full_video.ipynb"
   }
  }
 },
 "nbformat": 4,
 "nbformat_minor": 2
}
