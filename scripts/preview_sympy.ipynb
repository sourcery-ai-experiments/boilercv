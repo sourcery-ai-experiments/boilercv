{
 "cells": [
  {
   "cell_type": "markdown",
   "metadata": {},
   "source": [
    "# Preview SymPy"
   ]
  },
  {
   "cell_type": "code",
   "execution_count": 7,
   "metadata": {
    "tags": [
     "parameters"
    ]
   },
   "outputs": [],
   "source": [
    "from docs.boilercv_docs.nbs import HIDE\n",
    "from sympy import sympify\n",
    "from tomlkit import parse\n",
    "\n",
    "from boilercv_pipeline.correlations.dimensionless_bubble_diameter.equations import (\n",
    "    EQUATIONS_TOML,\n",
    "    SYMPY_REPLS,\n",
    ")\n",
    "from boilercv_pipeline.correlations.dimensionless_bubble_diameter.symbolic import (\n",
    "    LOCALS,\n",
    "    SUBS,\n",
    ")\n",
    "\n",
    "NAME = \"florschuetz_chao_1965\"\n",
    "\"\"\"Name of the equation to preview.\"\"\"\n",
    "HIDE"
   ]
  },
  {
   "cell_type": "code",
   "execution_count": 8,
   "metadata": {},
   "outputs": [
    {
     "data": {
      "text/plain": [
       "'florschuetz_chao_1965'"
      ]
     },
     "metadata": {},
     "output_type": "display_data"
    },
    {
     "data": {
      "text/latex": [
       "$\\displaystyle \\beta = 1 - 4 Ja \\sqrt{\\frac{Fo_{0}}{\\pi}}$"
      ],
      "text/plain": [
       "Eq(beta, 1 - 4*Ja*sqrt(Fo_0/pi))"
      ]
     },
     "metadata": {},
     "output_type": "display_data"
    },
    {
     "data": {
      "text/plain": [
       "'Eq(beta, 1 - 4 * Ja * sqrt(Fo_0 / pi))'"
      ]
     },
     "metadata": {},
     "output_type": "display_data"
    },
    {
     "data": {
      "text/plain": [
       "['Fo_0', 'Ja', 'Re_b0', 'Pr', 'beta']"
      ]
     },
     "metadata": {},
     "output_type": "display_data"
    }
   ],
   "source": [
    "syms: list[str] = []\n",
    "for sub in SUBS:\n",
    "    for old, new in [(r.find, r.repl) for r in SYMPY_REPLS]:\n",
    "        sub = sub.replace(old, new)\n",
    "    syms.append(sub)\n",
    "eq = (\n",
    "    next(\n",
    "        iter(\n",
    "            eq\n",
    "            for name, eq in parse(EQUATIONS_TOML.read_text(\"utf-8\")).items()  # pyright: ignore[reportGeneralTypeIssues]  1.1.356, tomlkit 0.12.4\n",
    "            if name.strip() == NAME\n",
    "        )\n",
    "    )[\"sympy\"]\n",
    "    .strip()\n",
    "    .replace(\"\\n\", \"\")\n",
    "    .replace(\"    \", \"\")\n",
    ")\n",
    "for old, new in [(r.find, r.repl) for r in SYMPY_REPLS]:\n",
    "    eq = eq.replace(old, new)\n",
    "sympy = sympify(eq, locals=LOCALS, evaluate=False)\n",
    "display(NAME, sympy, eq, syms)"
   ]
  }
 ],
 "metadata": {
  "kernelspec": {
   "display_name": ".venv",
   "language": "python",
   "name": "python3"
  },
  "language_info": {
   "codemirror_mode": {
    "name": "ipython",
    "version": 3
   },
   "file_extension": ".py",
   "mimetype": "text/x-python",
   "name": "python",
   "nbconvert_exporter": "python",
   "pygments_lexer": "ipython3",
   "version": "3.11.9"
  }
 },
 "nbformat": 4,
 "nbformat_minor": 2
}
